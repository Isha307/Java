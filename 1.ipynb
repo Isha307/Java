{
 "metadata": {
  "language_info": {
   "codemirror_mode": {
    "name": "ipython",
    "version": 3
   },
   "file_extension": ".py",
   "mimetype": "text/x-python",
   "name": "python",
   "nbconvert_exporter": "python",
   "pygments_lexer": "ipython3",
   "version": 3
  },
  "orig_nbformat": 2
 },
 "nbformat": 4,
 "nbformat_minor": 2,
 "cells": [
  {
   "cell_type": "code",
   "execution_count": null,
   "metadata": {},
   "outputs": [],
   "source": [
    "!pip install https://github.com/matplotlib/basemap/archive/master.zip"
   ]
  },
  {
   "cell_type": "code",
   "execution_count": null,
   "metadata": {},
   "outputs": [],
   "source": [
    "from mpl_toolkits.basemap import Basemap\n",
    "import pandas as pd\n",
    "import numpy as np\n",
    "import matplotlib.pyplot as plt\n",
    "from matplotlib import cm"
   ]
  },
  {
   "cell_type": "code",
   "execution_count": null,
   "metadata": {},
   "outputs": [],
   "source": [
    "dataset = pd.read_csv('Total crimes against women .csv')"
   ]
  },
  {
   "cell_type": "code",
   "execution_count": null,
   "metadata": {},
   "outputs": [],
   "source": [
    "dataset['latitude'] = dataset['Lat']\n",
    "dataset['longitude'] = dataset['Long']\n",
    "top_pop_cities = dataset.sort_values(by='2018',ascending=False)\n",
    "top10_pop_cities=top_pop_cities.head(dataset['State'].size)\n",
    "top10_pop_cities.head(dataset['State'].size)"
   ]
  },
  {
   "cell_type": "code",
   "execution_count": null,
   "metadata": {},
   "outputs": [],
   "source": [
    "plt.subplots(figsize=(20, 15))\n",
    "map = Basemap(width=1200000,height=900000,projection='lcc',resolution='l',\n",
    "                    llcrnrlon=67,llcrnrlat=5,urcrnrlon=99,urcrnrlat=37,lat_0=28,lon_0=77)\n",
    "map.drawmapboundary ()\n",
    "map.drawcountries ()\n",
    "map.drawcoastlines ()\n",
    "lg=np.array(top10_pop_cities['longitude'])\n",
    "lt=np.array(top10_pop_cities['latitude'])\n",
    "pt=np.array(top10_pop_cities['2018'])\n",
    "nc=np.array(top10_pop_cities['State'])\n",
    "x, y = map(lg, lt)\n",
    "population_sizes = top10_pop_cities[\"2018\"].apply(lambda x: int(x / 100))\n",
    "plt.scatter(x, y, s=population_sizes, marker=\"o\", c=population_sizes, cmap=cm.Dark2, alpha=0.8)\n",
    "for ncs, xpt, ypt in zip(nc, x, y):\n",
    "    plt.text(xpt+60000, ypt+30000, ncs, fontsize=10, fontweight='bold')\n",
    "plt.title('Top Cities in India with Crime against women',fontsize=20)\n",
    "plt.savefig('saved_figure.png')"
   ]
  }
 ]
}